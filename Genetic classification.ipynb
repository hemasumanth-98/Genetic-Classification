{
 "cells": [
  {
   "cell_type": "code",
   "execution_count": 20,
   "id": "eb3eebd8",
   "metadata": {},
   "outputs": [],
   "source": [
    "import pandas as pd\n",
    "import numpy as np\n",
    "from sklearn.compose import ColumnTransformer\n",
    "from sklearn.preprocessing import OneHotEncoder\n",
    "from sklearn.pipeline import Pipeline\n",
    "import matplotlib.pyplot as mlp\n",
    "import seaborn as sns"
   ]
  },
  {
   "cell_type": "code",
   "execution_count": 21,
   "id": "a66909c8",
   "metadata": {},
   "outputs": [
    {
     "name": "stderr",
     "output_type": "stream",
     "text": [
      "C:\\Users\\yuvar\\AppData\\Local\\Temp\\ipykernel_21624\\995486465.py:1: DtypeWarning: Columns (0,38,40) have mixed types. Specify dtype option on import or set low_memory=False.\n",
      "  dataset=pd.read_csv(r\"C:\\Users\\yuvar\\Downloads\\archive (10)\\clinvar_conflicting.csv\")\n"
     ]
    }
   ],
   "source": [
    "dataset=pd.read_csv(r\"C:\\Users\\yuvar\\Downloads\\archive (10)\\clinvar_conflicting.csv\")"
   ]
  },
  {
   "cell_type": "code",
   "execution_count": 22,
   "id": "56d34c59",
   "metadata": {},
   "outputs": [
    {
     "data": {
      "text/plain": [
       "(65188, 46)"
      ]
     },
     "execution_count": 22,
     "metadata": {},
     "output_type": "execute_result"
    }
   ],
   "source": [
    "dataset.shape"
   ]
  },
  {
   "cell_type": "code",
   "execution_count": 23,
   "id": "13cf29ea",
   "metadata": {},
   "outputs": [
    {
     "data": {
      "text/html": [
       "<div>\n",
       "<style scoped>\n",
       "    .dataframe tbody tr th:only-of-type {\n",
       "        vertical-align: middle;\n",
       "    }\n",
       "\n",
       "    .dataframe tbody tr th {\n",
       "        vertical-align: top;\n",
       "    }\n",
       "\n",
       "    .dataframe thead th {\n",
       "        text-align: right;\n",
       "    }\n",
       "</style>\n",
       "<table border=\"1\" class=\"dataframe\">\n",
       "  <thead>\n",
       "    <tr style=\"text-align: right;\">\n",
       "      <th></th>\n",
       "      <th>CHROM</th>\n",
       "      <th>POS</th>\n",
       "      <th>REF</th>\n",
       "      <th>ALT</th>\n",
       "      <th>AF_ESP</th>\n",
       "      <th>AF_EXAC</th>\n",
       "      <th>AF_TGP</th>\n",
       "      <th>CLNDISDB</th>\n",
       "      <th>CLNDISDBINCL</th>\n",
       "      <th>CLNDN</th>\n",
       "      <th>...</th>\n",
       "      <th>SIFT</th>\n",
       "      <th>PolyPhen</th>\n",
       "      <th>MOTIF_NAME</th>\n",
       "      <th>MOTIF_POS</th>\n",
       "      <th>HIGH_INF_POS</th>\n",
       "      <th>MOTIF_SCORE_CHANGE</th>\n",
       "      <th>LoFtool</th>\n",
       "      <th>CADD_PHRED</th>\n",
       "      <th>CADD_RAW</th>\n",
       "      <th>BLOSUM62</th>\n",
       "    </tr>\n",
       "  </thead>\n",
       "  <tbody>\n",
       "    <tr>\n",
       "      <th>0</th>\n",
       "      <td>1</td>\n",
       "      <td>1168180</td>\n",
       "      <td>G</td>\n",
       "      <td>C</td>\n",
       "      <td>0.0771</td>\n",
       "      <td>0.10020</td>\n",
       "      <td>0.1066</td>\n",
       "      <td>MedGen:CN169374</td>\n",
       "      <td>NaN</td>\n",
       "      <td>not_specified</td>\n",
       "      <td>...</td>\n",
       "      <td>tolerated</td>\n",
       "      <td>benign</td>\n",
       "      <td>NaN</td>\n",
       "      <td>NaN</td>\n",
       "      <td>NaN</td>\n",
       "      <td>NaN</td>\n",
       "      <td>NaN</td>\n",
       "      <td>1.053</td>\n",
       "      <td>-0.208682</td>\n",
       "      <td>2.0</td>\n",
       "    </tr>\n",
       "    <tr>\n",
       "      <th>1</th>\n",
       "      <td>1</td>\n",
       "      <td>1470752</td>\n",
       "      <td>G</td>\n",
       "      <td>A</td>\n",
       "      <td>0.0000</td>\n",
       "      <td>0.00000</td>\n",
       "      <td>0.0000</td>\n",
       "      <td>MedGen:C1843891,OMIM:607454,Orphanet:ORPHA9877...</td>\n",
       "      <td>NaN</td>\n",
       "      <td>Spinocerebellar_ataxia_21|not_provided</td>\n",
       "      <td>...</td>\n",
       "      <td>deleterious_low_confidence</td>\n",
       "      <td>benign</td>\n",
       "      <td>NaN</td>\n",
       "      <td>NaN</td>\n",
       "      <td>NaN</td>\n",
       "      <td>NaN</td>\n",
       "      <td>NaN</td>\n",
       "      <td>31.000</td>\n",
       "      <td>6.517838</td>\n",
       "      <td>-3.0</td>\n",
       "    </tr>\n",
       "    <tr>\n",
       "      <th>2</th>\n",
       "      <td>1</td>\n",
       "      <td>1737942</td>\n",
       "      <td>A</td>\n",
       "      <td>G</td>\n",
       "      <td>0.0000</td>\n",
       "      <td>0.00001</td>\n",
       "      <td>0.0000</td>\n",
       "      <td>Human_Phenotype_Ontology:HP:0000486,MedGen:C00...</td>\n",
       "      <td>NaN</td>\n",
       "      <td>Strabismus|Nystagmus|Hypothyroidism|Intellectu...</td>\n",
       "      <td>...</td>\n",
       "      <td>deleterious</td>\n",
       "      <td>probably_damaging</td>\n",
       "      <td>NaN</td>\n",
       "      <td>NaN</td>\n",
       "      <td>NaN</td>\n",
       "      <td>NaN</td>\n",
       "      <td>NaN</td>\n",
       "      <td>28.100</td>\n",
       "      <td>6.061752</td>\n",
       "      <td>-1.0</td>\n",
       "    </tr>\n",
       "    <tr>\n",
       "      <th>3</th>\n",
       "      <td>1</td>\n",
       "      <td>2160305</td>\n",
       "      <td>G</td>\n",
       "      <td>A</td>\n",
       "      <td>0.0000</td>\n",
       "      <td>0.00000</td>\n",
       "      <td>0.0000</td>\n",
       "      <td>MedGen:C1321551,OMIM:182212,SNOMED_CT:83092002...</td>\n",
       "      <td>NaN</td>\n",
       "      <td>Shprintzen-Goldberg_syndrome|not_provided</td>\n",
       "      <td>...</td>\n",
       "      <td>NaN</td>\n",
       "      <td>NaN</td>\n",
       "      <td>NaN</td>\n",
       "      <td>NaN</td>\n",
       "      <td>NaN</td>\n",
       "      <td>NaN</td>\n",
       "      <td>NaN</td>\n",
       "      <td>22.500</td>\n",
       "      <td>3.114491</td>\n",
       "      <td>NaN</td>\n",
       "    </tr>\n",
       "    <tr>\n",
       "      <th>4</th>\n",
       "      <td>1</td>\n",
       "      <td>2160305</td>\n",
       "      <td>G</td>\n",
       "      <td>T</td>\n",
       "      <td>0.0000</td>\n",
       "      <td>0.00000</td>\n",
       "      <td>0.0000</td>\n",
       "      <td>MedGen:C1321551,OMIM:182212,SNOMED_CT:83092002</td>\n",
       "      <td>NaN</td>\n",
       "      <td>Shprintzen-Goldberg_syndrome</td>\n",
       "      <td>...</td>\n",
       "      <td>NaN</td>\n",
       "      <td>NaN</td>\n",
       "      <td>NaN</td>\n",
       "      <td>NaN</td>\n",
       "      <td>NaN</td>\n",
       "      <td>NaN</td>\n",
       "      <td>NaN</td>\n",
       "      <td>24.700</td>\n",
       "      <td>4.766224</td>\n",
       "      <td>-3.0</td>\n",
       "    </tr>\n",
       "  </tbody>\n",
       "</table>\n",
       "<p>5 rows × 46 columns</p>\n",
       "</div>"
      ],
      "text/plain": [
       "  CHROM      POS REF ALT  AF_ESP  AF_EXAC  AF_TGP  \\\n",
       "0     1  1168180   G   C  0.0771  0.10020  0.1066   \n",
       "1     1  1470752   G   A  0.0000  0.00000  0.0000   \n",
       "2     1  1737942   A   G  0.0000  0.00001  0.0000   \n",
       "3     1  2160305   G   A  0.0000  0.00000  0.0000   \n",
       "4     1  2160305   G   T  0.0000  0.00000  0.0000   \n",
       "\n",
       "                                            CLNDISDB CLNDISDBINCL  \\\n",
       "0                                    MedGen:CN169374          NaN   \n",
       "1  MedGen:C1843891,OMIM:607454,Orphanet:ORPHA9877...          NaN   \n",
       "2  Human_Phenotype_Ontology:HP:0000486,MedGen:C00...          NaN   \n",
       "3  MedGen:C1321551,OMIM:182212,SNOMED_CT:83092002...          NaN   \n",
       "4     MedGen:C1321551,OMIM:182212,SNOMED_CT:83092002          NaN   \n",
       "\n",
       "                                               CLNDN  ...  \\\n",
       "0                                      not_specified  ...   \n",
       "1             Spinocerebellar_ataxia_21|not_provided  ...   \n",
       "2  Strabismus|Nystagmus|Hypothyroidism|Intellectu...  ...   \n",
       "3          Shprintzen-Goldberg_syndrome|not_provided  ...   \n",
       "4                       Shprintzen-Goldberg_syndrome  ...   \n",
       "\n",
       "                         SIFT           PolyPhen MOTIF_NAME MOTIF_POS  \\\n",
       "0                   tolerated             benign        NaN       NaN   \n",
       "1  deleterious_low_confidence             benign        NaN       NaN   \n",
       "2                 deleterious  probably_damaging        NaN       NaN   \n",
       "3                         NaN                NaN        NaN       NaN   \n",
       "4                         NaN                NaN        NaN       NaN   \n",
       "\n",
       "  HIGH_INF_POS MOTIF_SCORE_CHANGE  LoFtool  CADD_PHRED  CADD_RAW BLOSUM62  \n",
       "0          NaN                NaN      NaN       1.053 -0.208682      2.0  \n",
       "1          NaN                NaN      NaN      31.000  6.517838     -3.0  \n",
       "2          NaN                NaN      NaN      28.100  6.061752     -1.0  \n",
       "3          NaN                NaN      NaN      22.500  3.114491      NaN  \n",
       "4          NaN                NaN      NaN      24.700  4.766224     -3.0  \n",
       "\n",
       "[5 rows x 46 columns]"
      ]
     },
     "execution_count": 23,
     "metadata": {},
     "output_type": "execute_result"
    }
   ],
   "source": [
    "dataset.head(5)"
   ]
  },
  {
   "cell_type": "code",
   "execution_count": 24,
   "id": "dd242dce",
   "metadata": {},
   "outputs": [
    {
     "data": {
      "text/plain": [
       "CHROM                     0\n",
       "POS                       0\n",
       "REF                       0\n",
       "ALT                       0\n",
       "AF_ESP                    0\n",
       "AF_EXAC                   0\n",
       "AF_TGP                    0\n",
       "CLNDISDB                  0\n",
       "CLNDISDBINCL          65021\n",
       "CLNDN                     0\n",
       "CLNDNINCL             65021\n",
       "CLNHGVS                   0\n",
       "CLNSIGINCL            65021\n",
       "CLNVC                     0\n",
       "CLNVI                 37529\n",
       "MC                      846\n",
       "ORIGIN                    0\n",
       "SSR                   65058\n",
       "CLASS                     0\n",
       "Allele                    0\n",
       "Consequence               0\n",
       "IMPACT                    0\n",
       "SYMBOL                   16\n",
       "Feature_type             14\n",
       "Feature                  14\n",
       "BIOTYPE                  16\n",
       "EXON                   8893\n",
       "INTRON                56385\n",
       "cDNA_position          8884\n",
       "CDS_position           9955\n",
       "Protein_position       9955\n",
       "Amino_acids           10004\n",
       "Codons                10004\n",
       "DISTANCE              65080\n",
       "STRAND                   14\n",
       "BAM_EDIT              33219\n",
       "SIFT                  40352\n",
       "PolyPhen              40392\n",
       "MOTIF_NAME            65186\n",
       "MOTIF_POS             65186\n",
       "HIGH_INF_POS          65186\n",
       "MOTIF_SCORE_CHANGE    65186\n",
       "LoFtool                4213\n",
       "CADD_PHRED             1092\n",
       "CADD_RAW               1092\n",
       "BLOSUM62              39595\n",
       "dtype: int64"
      ]
     },
     "execution_count": 24,
     "metadata": {},
     "output_type": "execute_result"
    }
   ],
   "source": [
    "dataset.isnull().sum()"
   ]
  },
  {
   "cell_type": "code",
   "execution_count": null,
   "id": "752b89fb",
   "metadata": {},
   "outputs": [],
   "source": [
    "Here we have more than 50% of the total data is null , its not possible to fill the null values by using any type of methods.so we have to drop the columns in the dataset"
   ]
  },
  {
   "cell_type": "code",
   "execution_count": 25,
   "id": "f3c7f827",
   "metadata": {},
   "outputs": [],
   "source": [
    "dataset.drop(\"CLNDISDBINCL\",axis=1,inplace=True)\n",
    "dataset.drop(\"CLNDNINCL\",axis=1,inplace=True)\n",
    "dataset.drop(\"CLNSIGINCL\",axis=1,inplace=True)\n",
    "dataset.drop(\"SSR\",axis=1,inplace=True)\n",
    "dataset.drop(\"MOTIF_NAME\",axis=1,inplace=True)\n",
    "dataset.drop(\"MOTIF_POS\",axis=1,inplace=True)\n",
    "dataset.drop(\"HIGH_INF_POS\",axis=1,inplace=True)\n",
    "dataset.drop(\"MOTIF_SCORE_CHANGE\",axis=1,inplace=True)\n",
    "dataset.drop(\"INTRON\",axis=1,inplace=True)\n",
    "dataset.drop(\"DISTANCE\",axis=1,inplace=True)\n",
    "dataset.drop(\"BAM_EDIT\",axis=1,inplace=True)\n",
    "dataset.drop(\"CLNVI\",axis=1,inplace=True)\n",
    "dataset.drop(\"BLOSUM62\",axis=1,inplace=True)\n",
    "dataset.drop(\"SIFT\",axis=1,inplace=True)\n",
    "dataset.drop(\"PolyPhen\",axis=1,inplace=True)\n",
    "dataset.drop(\"CHROM\",axis=1,inplace=True)"
   ]
  },
  {
   "cell_type": "code",
   "execution_count": 26,
   "id": "ae41dbdc",
   "metadata": {
    "scrolled": false
   },
   "outputs": [
    {
     "data": {
      "text/html": [
       "<div>\n",
       "<style scoped>\n",
       "    .dataframe tbody tr th:only-of-type {\n",
       "        vertical-align: middle;\n",
       "    }\n",
       "\n",
       "    .dataframe tbody tr th {\n",
       "        vertical-align: top;\n",
       "    }\n",
       "\n",
       "    .dataframe thead th {\n",
       "        text-align: right;\n",
       "    }\n",
       "</style>\n",
       "<table border=\"1\" class=\"dataframe\">\n",
       "  <thead>\n",
       "    <tr style=\"text-align: right;\">\n",
       "      <th></th>\n",
       "      <th>POS</th>\n",
       "      <th>REF</th>\n",
       "      <th>ALT</th>\n",
       "      <th>AF_ESP</th>\n",
       "      <th>AF_EXAC</th>\n",
       "      <th>AF_TGP</th>\n",
       "      <th>CLNDISDB</th>\n",
       "      <th>CLNDN</th>\n",
       "      <th>CLNHGVS</th>\n",
       "      <th>CLNVC</th>\n",
       "      <th>...</th>\n",
       "      <th>EXON</th>\n",
       "      <th>cDNA_position</th>\n",
       "      <th>CDS_position</th>\n",
       "      <th>Protein_position</th>\n",
       "      <th>Amino_acids</th>\n",
       "      <th>Codons</th>\n",
       "      <th>STRAND</th>\n",
       "      <th>LoFtool</th>\n",
       "      <th>CADD_PHRED</th>\n",
       "      <th>CADD_RAW</th>\n",
       "    </tr>\n",
       "  </thead>\n",
       "  <tbody>\n",
       "    <tr>\n",
       "      <th>0</th>\n",
       "      <td>1168180</td>\n",
       "      <td>G</td>\n",
       "      <td>C</td>\n",
       "      <td>0.0771</td>\n",
       "      <td>0.10020</td>\n",
       "      <td>0.1066</td>\n",
       "      <td>MedGen:CN169374</td>\n",
       "      <td>not_specified</td>\n",
       "      <td>NC_000001.10:g.1168180G&gt;C</td>\n",
       "      <td>single_nucleotide_variant</td>\n",
       "      <td>...</td>\n",
       "      <td>1/1</td>\n",
       "      <td>552</td>\n",
       "      <td>522</td>\n",
       "      <td>174</td>\n",
       "      <td>E/D</td>\n",
       "      <td>gaG/gaC</td>\n",
       "      <td>1.0</td>\n",
       "      <td>NaN</td>\n",
       "      <td>1.053</td>\n",
       "      <td>-0.208682</td>\n",
       "    </tr>\n",
       "    <tr>\n",
       "      <th>1</th>\n",
       "      <td>1470752</td>\n",
       "      <td>G</td>\n",
       "      <td>A</td>\n",
       "      <td>0.0000</td>\n",
       "      <td>0.00000</td>\n",
       "      <td>0.0000</td>\n",
       "      <td>MedGen:C1843891,OMIM:607454,Orphanet:ORPHA9877...</td>\n",
       "      <td>Spinocerebellar_ataxia_21|not_provided</td>\n",
       "      <td>NC_000001.10:g.1470752G&gt;A</td>\n",
       "      <td>single_nucleotide_variant</td>\n",
       "      <td>...</td>\n",
       "      <td>4/4</td>\n",
       "      <td>523</td>\n",
       "      <td>509</td>\n",
       "      <td>170</td>\n",
       "      <td>P/L</td>\n",
       "      <td>cCg/cTg</td>\n",
       "      <td>-1.0</td>\n",
       "      <td>NaN</td>\n",
       "      <td>31.000</td>\n",
       "      <td>6.517838</td>\n",
       "    </tr>\n",
       "    <tr>\n",
       "      <th>2</th>\n",
       "      <td>1737942</td>\n",
       "      <td>A</td>\n",
       "      <td>G</td>\n",
       "      <td>0.0000</td>\n",
       "      <td>0.00001</td>\n",
       "      <td>0.0000</td>\n",
       "      <td>Human_Phenotype_Ontology:HP:0000486,MedGen:C00...</td>\n",
       "      <td>Strabismus|Nystagmus|Hypothyroidism|Intellectu...</td>\n",
       "      <td>NC_000001.10:g.1737942A&gt;G</td>\n",
       "      <td>single_nucleotide_variant</td>\n",
       "      <td>...</td>\n",
       "      <td>6/12</td>\n",
       "      <td>632</td>\n",
       "      <td>239</td>\n",
       "      <td>80</td>\n",
       "      <td>I/T</td>\n",
       "      <td>aTc/aCc</td>\n",
       "      <td>-1.0</td>\n",
       "      <td>NaN</td>\n",
       "      <td>28.100</td>\n",
       "      <td>6.061752</td>\n",
       "    </tr>\n",
       "    <tr>\n",
       "      <th>3</th>\n",
       "      <td>2160305</td>\n",
       "      <td>G</td>\n",
       "      <td>A</td>\n",
       "      <td>0.0000</td>\n",
       "      <td>0.00000</td>\n",
       "      <td>0.0000</td>\n",
       "      <td>MedGen:C1321551,OMIM:182212,SNOMED_CT:83092002...</td>\n",
       "      <td>Shprintzen-Goldberg_syndrome|not_provided</td>\n",
       "      <td>NC_000001.10:g.2160305G&gt;A</td>\n",
       "      <td>single_nucleotide_variant</td>\n",
       "      <td>...</td>\n",
       "      <td>1/7</td>\n",
       "      <td>132</td>\n",
       "      <td>100</td>\n",
       "      <td>34</td>\n",
       "      <td>G/S</td>\n",
       "      <td>Ggc/Agc</td>\n",
       "      <td>1.0</td>\n",
       "      <td>NaN</td>\n",
       "      <td>22.500</td>\n",
       "      <td>3.114491</td>\n",
       "    </tr>\n",
       "    <tr>\n",
       "      <th>4</th>\n",
       "      <td>2160305</td>\n",
       "      <td>G</td>\n",
       "      <td>T</td>\n",
       "      <td>0.0000</td>\n",
       "      <td>0.00000</td>\n",
       "      <td>0.0000</td>\n",
       "      <td>MedGen:C1321551,OMIM:182212,SNOMED_CT:83092002</td>\n",
       "      <td>Shprintzen-Goldberg_syndrome</td>\n",
       "      <td>NC_000001.10:g.2160305G&gt;T</td>\n",
       "      <td>single_nucleotide_variant</td>\n",
       "      <td>...</td>\n",
       "      <td>1/7</td>\n",
       "      <td>132</td>\n",
       "      <td>100</td>\n",
       "      <td>34</td>\n",
       "      <td>G/C</td>\n",
       "      <td>Ggc/Tgc</td>\n",
       "      <td>1.0</td>\n",
       "      <td>NaN</td>\n",
       "      <td>24.700</td>\n",
       "      <td>4.766224</td>\n",
       "    </tr>\n",
       "  </tbody>\n",
       "</table>\n",
       "<p>5 rows × 30 columns</p>\n",
       "</div>"
      ],
      "text/plain": [
       "       POS REF ALT  AF_ESP  AF_EXAC  AF_TGP  \\\n",
       "0  1168180   G   C  0.0771  0.10020  0.1066   \n",
       "1  1470752   G   A  0.0000  0.00000  0.0000   \n",
       "2  1737942   A   G  0.0000  0.00001  0.0000   \n",
       "3  2160305   G   A  0.0000  0.00000  0.0000   \n",
       "4  2160305   G   T  0.0000  0.00000  0.0000   \n",
       "\n",
       "                                            CLNDISDB  \\\n",
       "0                                    MedGen:CN169374   \n",
       "1  MedGen:C1843891,OMIM:607454,Orphanet:ORPHA9877...   \n",
       "2  Human_Phenotype_Ontology:HP:0000486,MedGen:C00...   \n",
       "3  MedGen:C1321551,OMIM:182212,SNOMED_CT:83092002...   \n",
       "4     MedGen:C1321551,OMIM:182212,SNOMED_CT:83092002   \n",
       "\n",
       "                                               CLNDN  \\\n",
       "0                                      not_specified   \n",
       "1             Spinocerebellar_ataxia_21|not_provided   \n",
       "2  Strabismus|Nystagmus|Hypothyroidism|Intellectu...   \n",
       "3          Shprintzen-Goldberg_syndrome|not_provided   \n",
       "4                       Shprintzen-Goldberg_syndrome   \n",
       "\n",
       "                     CLNHGVS                      CLNVC  ...  EXON  \\\n",
       "0  NC_000001.10:g.1168180G>C  single_nucleotide_variant  ...   1/1   \n",
       "1  NC_000001.10:g.1470752G>A  single_nucleotide_variant  ...   4/4   \n",
       "2  NC_000001.10:g.1737942A>G  single_nucleotide_variant  ...  6/12   \n",
       "3  NC_000001.10:g.2160305G>A  single_nucleotide_variant  ...   1/7   \n",
       "4  NC_000001.10:g.2160305G>T  single_nucleotide_variant  ...   1/7   \n",
       "\n",
       "   cDNA_position  CDS_position Protein_position Amino_acids   Codons STRAND  \\\n",
       "0            552           522              174         E/D  gaG/gaC    1.0   \n",
       "1            523           509              170         P/L  cCg/cTg   -1.0   \n",
       "2            632           239               80         I/T  aTc/aCc   -1.0   \n",
       "3            132           100               34         G/S  Ggc/Agc    1.0   \n",
       "4            132           100               34         G/C  Ggc/Tgc    1.0   \n",
       "\n",
       "  LoFtool CADD_PHRED  CADD_RAW  \n",
       "0     NaN      1.053 -0.208682  \n",
       "1     NaN     31.000  6.517838  \n",
       "2     NaN     28.100  6.061752  \n",
       "3     NaN     22.500  3.114491  \n",
       "4     NaN     24.700  4.766224  \n",
       "\n",
       "[5 rows x 30 columns]"
      ]
     },
     "execution_count": 26,
     "metadata": {},
     "output_type": "execute_result"
    }
   ],
   "source": [
    "dataset.head(5)"
   ]
  },
  {
   "cell_type": "code",
   "execution_count": 27,
   "id": "24d6a11f",
   "metadata": {},
   "outputs": [
    {
     "data": {
      "text/plain": [
       "POS                     0\n",
       "REF                     0\n",
       "ALT                     0\n",
       "AF_ESP                  0\n",
       "AF_EXAC                 0\n",
       "AF_TGP                  0\n",
       "CLNDISDB                0\n",
       "CLNDN                   0\n",
       "CLNHGVS                 0\n",
       "CLNVC                   0\n",
       "MC                    846\n",
       "ORIGIN                  0\n",
       "CLASS                   0\n",
       "Allele                  0\n",
       "Consequence             0\n",
       "IMPACT                  0\n",
       "SYMBOL                 16\n",
       "Feature_type           14\n",
       "Feature                14\n",
       "BIOTYPE                16\n",
       "EXON                 8893\n",
       "cDNA_position        8884\n",
       "CDS_position         9955\n",
       "Protein_position     9955\n",
       "Amino_acids         10004\n",
       "Codons              10004\n",
       "STRAND                 14\n",
       "LoFtool              4213\n",
       "CADD_PHRED           1092\n",
       "CADD_RAW             1092\n",
       "dtype: int64"
      ]
     },
     "execution_count": 27,
     "metadata": {},
     "output_type": "execute_result"
    }
   ],
   "source": [
    "dataset.isnull().sum()"
   ]
  },
  {
   "cell_type": "code",
   "execution_count": 28,
   "id": "a480af0d",
   "metadata": {
    "scrolled": true
   },
   "outputs": [
    {
     "name": "stdout",
     "output_type": "stream",
     "text": [
      "<class 'pandas.core.frame.DataFrame'>\n",
      "RangeIndex: 65188 entries, 0 to 65187\n",
      "Data columns (total 30 columns):\n",
      " #   Column            Non-Null Count  Dtype  \n",
      "---  ------            --------------  -----  \n",
      " 0   POS               65188 non-null  int64  \n",
      " 1   REF               65188 non-null  object \n",
      " 2   ALT               65188 non-null  object \n",
      " 3   AF_ESP            65188 non-null  float64\n",
      " 4   AF_EXAC           65188 non-null  float64\n",
      " 5   AF_TGP            65188 non-null  float64\n",
      " 6   CLNDISDB          65188 non-null  object \n",
      " 7   CLNDN             65188 non-null  object \n",
      " 8   CLNHGVS           65188 non-null  object \n",
      " 9   CLNVC             65188 non-null  object \n",
      " 10  MC                64342 non-null  object \n",
      " 11  ORIGIN            65188 non-null  int64  \n",
      " 12  CLASS             65188 non-null  int64  \n",
      " 13  Allele            65188 non-null  object \n",
      " 14  Consequence       65188 non-null  object \n",
      " 15  IMPACT            65188 non-null  object \n",
      " 16  SYMBOL            65172 non-null  object \n",
      " 17  Feature_type      65174 non-null  object \n",
      " 18  Feature           65174 non-null  object \n",
      " 19  BIOTYPE           65172 non-null  object \n",
      " 20  EXON              56295 non-null  object \n",
      " 21  cDNA_position     56304 non-null  object \n",
      " 22  CDS_position      55233 non-null  object \n",
      " 23  Protein_position  55233 non-null  object \n",
      " 24  Amino_acids       55184 non-null  object \n",
      " 25  Codons            55184 non-null  object \n",
      " 26  STRAND            65174 non-null  float64\n",
      " 27  LoFtool           60975 non-null  float64\n",
      " 28  CADD_PHRED        64096 non-null  float64\n",
      " 29  CADD_RAW          64096 non-null  float64\n",
      "dtypes: float64(7), int64(3), object(20)\n",
      "memory usage: 14.9+ MB\n"
     ]
    }
   ],
   "source": [
    "dataset.info()"
   ]
  },
  {
   "cell_type": "code",
   "execution_count": 29,
   "id": "059c4b4f",
   "metadata": {},
   "outputs": [],
   "source": [
    "dataset[\"STRAND\"].fillna(dataset[\"STRAND\"].mean(),inplace=True)\n",
    "dataset[\"LoFtool\"].fillna(dataset[\"LoFtool\"].mean(),inplace=True)\n",
    "dataset[\"CADD_PHRED\"].fillna(dataset[\"CADD_PHRED\"].mean(),inplace=True)\n",
    "dataset[\"CADD_RAW\"].fillna(dataset[\"CADD_RAW\"].mean(),inplace=True)\n",
    "dataset[\"MC\"].fillna(dataset[\"MC\"].mode(),inplace=True)\n",
    "dataset[\"SYMBOL\"].fillna(dataset[\"SYMBOL\"].mode(),inplace=True)\n",
    "dataset[\"Feature_type\"].fillna(dataset[\"Feature_type\"].mode(),inplace=True)\n",
    "dataset[\"Feature\"].fillna(dataset[\"Feature\"].mode(),inplace=True)\n",
    "dataset[\"BIOTYPE\"].fillna(dataset[\"BIOTYPE\"].mode(),inplace=True)\n",
    "dataset[\"EXON\"].fillna(dataset[\"EXON\"].mode(),inplace=True)\n",
    "dataset[\"cDNA_position\"].fillna(dataset[\"cDNA_position\"].mode(),inplace=True)\n",
    "dataset[\"CDS_position\"].fillna(dataset[\"CDS_position\"].mode(),inplace=True)\n",
    "dataset[\"Protein_position\"].fillna(dataset[\"Protein_position\"].mode(),inplace=True)\n",
    "dataset[\"Amino_acids\"].fillna(dataset[\"Amino_acids\"].mode(),inplace=True)\n",
    "dataset[\"Codons\"].fillna(dataset[\"Codons\"].mode(),inplace=True)"
   ]
  },
  {
   "cell_type": "code",
   "execution_count": 30,
   "id": "16350f27",
   "metadata": {},
   "outputs": [],
   "source": [
    "x=dataset.iloc[:,[12]]\n",
    "y=dataset.iloc[:,0:]"
   ]
  },
  {
   "cell_type": "code",
   "execution_count": 31,
   "id": "b265d0f0",
   "metadata": {},
   "outputs": [],
   "source": [
    "y.drop(\"CLASS\",axis=1,inplace=True)"
   ]
  },
  {
   "cell_type": "code",
   "execution_count": 32,
   "id": "6413293d",
   "metadata": {},
   "outputs": [
    {
     "data": {
      "text/plain": [
       "(65188, 29)"
      ]
     },
     "execution_count": 32,
     "metadata": {},
     "output_type": "execute_result"
    }
   ],
   "source": [
    "y.shape"
   ]
  },
  {
   "cell_type": "code",
   "execution_count": 33,
   "id": "97eb12b9",
   "metadata": {},
   "outputs": [
    {
     "data": {
      "text/plain": [
       "(65188, 1)"
      ]
     },
     "execution_count": 33,
     "metadata": {},
     "output_type": "execute_result"
    }
   ],
   "source": [
    "x.shape"
   ]
  },
  {
   "cell_type": "code",
   "execution_count": 34,
   "id": "3e56dbec",
   "metadata": {},
   "outputs": [],
   "source": [
    "from sklearn.preprocessing import LabelEncoder\n",
    "le=LabelEncoder()\n",
    "x1=[\"ALT\",\"REF\",\"CLNDISDB\",\"CLNDN\",\"CLNHGVS\",\"CLNVC\",\"MC\",\"Allele\",\"Consequence\",\"IMPACT\",\"SYMBOL\",\"Feature_type\",\"Feature\",\"BIOTYPE\",\"EXON\",\"cDNA_position\",\"CDS_position\",\"Protein_position\",\"Amino_acids\",\"Codons\"]\n",
    "for i in x1:\n",
    "    y[i]=le.fit_transform(y[i])"
   ]
  },
  {
   "cell_type": "code",
   "execution_count": 99,
   "id": "d3e36f35",
   "metadata": {},
   "outputs": [],
   "source": [
    "pickle.dump(le,open(\"column G.pkl\",\"wb\"))"
   ]
  },
  {
   "cell_type": "code",
   "execution_count": 35,
   "id": "cfa9031f",
   "metadata": {},
   "outputs": [],
   "source": [
    "from sklearn.decomposition import PCA"
   ]
  },
  {
   "cell_type": "code",
   "execution_count": 36,
   "id": "d891b669",
   "metadata": {},
   "outputs": [],
   "source": [
    "pca=PCA(n_components=5)\n",
    "pca.fit(y)\n",
    "x_pca=pca.transform(y)"
   ]
  },
  {
   "cell_type": "code",
   "execution_count": 37,
   "id": "66318e23",
   "metadata": {},
   "outputs": [],
   "source": [
    "data1 = pd.DataFrame(x_pca,columns=['X{}'.format(i+1)for i in range(5)])"
   ]
  },
  {
   "cell_type": "code",
   "execution_count": 38,
   "id": "91023ad1",
   "metadata": {},
   "outputs": [
    {
     "data": {
      "text/html": [
       "<div>\n",
       "<style scoped>\n",
       "    .dataframe tbody tr th:only-of-type {\n",
       "        vertical-align: middle;\n",
       "    }\n",
       "\n",
       "    .dataframe tbody tr th {\n",
       "        vertical-align: top;\n",
       "    }\n",
       "\n",
       "    .dataframe thead th {\n",
       "        text-align: right;\n",
       "    }\n",
       "</style>\n",
       "<table border=\"1\" class=\"dataframe\">\n",
       "  <thead>\n",
       "    <tr style=\"text-align: right;\">\n",
       "      <th></th>\n",
       "      <th>X1</th>\n",
       "      <th>X2</th>\n",
       "      <th>X3</th>\n",
       "      <th>X4</th>\n",
       "      <th>X5</th>\n",
       "    </tr>\n",
       "  </thead>\n",
       "  <tbody>\n",
       "    <tr>\n",
       "      <th>0</th>\n",
       "      <td>-7.640775e+07</td>\n",
       "      <td>45023.956659</td>\n",
       "      <td>-2501.368871</td>\n",
       "      <td>-5109.466536</td>\n",
       "      <td>3580.073438</td>\n",
       "    </tr>\n",
       "    <tr>\n",
       "      <th>1</th>\n",
       "      <td>-7.610518e+07</td>\n",
       "      <td>44840.162960</td>\n",
       "      <td>-2192.625262</td>\n",
       "      <td>-3257.817492</td>\n",
       "      <td>3234.994677</td>\n",
       "    </tr>\n",
       "    <tr>\n",
       "      <th>2</th>\n",
       "      <td>-7.583799e+07</td>\n",
       "      <td>44091.426311</td>\n",
       "      <td>-195.912503</td>\n",
       "      <td>-69.054740</td>\n",
       "      <td>-1015.733765</td>\n",
       "    </tr>\n",
       "    <tr>\n",
       "      <th>3</th>\n",
       "      <td>-7.541563e+07</td>\n",
       "      <td>43423.339655</td>\n",
       "      <td>8629.651173</td>\n",
       "      <td>-3419.425262</td>\n",
       "      <td>754.433154</td>\n",
       "    </tr>\n",
       "    <tr>\n",
       "      <th>4</th>\n",
       "      <td>-7.541563e+07</td>\n",
       "      <td>43422.400470</td>\n",
       "      <td>8630.096616</td>\n",
       "      <td>-3415.436508</td>\n",
       "      <td>754.942983</td>\n",
       "    </tr>\n",
       "    <tr>\n",
       "      <th>...</th>\n",
       "      <td>...</td>\n",
       "      <td>...</td>\n",
       "      <td>...</td>\n",
       "      <td>...</td>\n",
       "      <td>...</td>\n",
       "    </tr>\n",
       "    <tr>\n",
       "      <th>65183</th>\n",
       "      <td>7.658226e+07</td>\n",
       "      <td>-44259.618208</td>\n",
       "      <td>1386.172810</td>\n",
       "      <td>2375.011317</td>\n",
       "      <td>3459.414870</td>\n",
       "    </tr>\n",
       "    <tr>\n",
       "      <th>65184</th>\n",
       "      <td>7.658317e+07</td>\n",
       "      <td>-44231.845431</td>\n",
       "      <td>3221.833188</td>\n",
       "      <td>-6014.834857</td>\n",
       "      <td>-1833.635544</td>\n",
       "    </tr>\n",
       "    <tr>\n",
       "      <th>65185</th>\n",
       "      <td>7.661894e+07</td>\n",
       "      <td>-44206.221356</td>\n",
       "      <td>8750.793946</td>\n",
       "      <td>-6020.024774</td>\n",
       "      <td>200.920306</td>\n",
       "    </tr>\n",
       "    <tr>\n",
       "      <th>65186</th>\n",
       "      <td>7.691424e+07</td>\n",
       "      <td>-44341.101729</td>\n",
       "      <td>-4152.429060</td>\n",
       "      <td>-2927.834587</td>\n",
       "      <td>3848.531531</td>\n",
       "    </tr>\n",
       "    <tr>\n",
       "      <th>65187</th>\n",
       "      <td>7.693260e+07</td>\n",
       "      <td>-44333.392243</td>\n",
       "      <td>-4032.449055</td>\n",
       "      <td>-5470.731379</td>\n",
       "      <td>4064.756676</td>\n",
       "    </tr>\n",
       "  </tbody>\n",
       "</table>\n",
       "<p>65188 rows × 5 columns</p>\n",
       "</div>"
      ],
      "text/plain": [
       "                 X1            X2           X3           X4           X5\n",
       "0     -7.640775e+07  45023.956659 -2501.368871 -5109.466536  3580.073438\n",
       "1     -7.610518e+07  44840.162960 -2192.625262 -3257.817492  3234.994677\n",
       "2     -7.583799e+07  44091.426311  -195.912503   -69.054740 -1015.733765\n",
       "3     -7.541563e+07  43423.339655  8629.651173 -3419.425262   754.433154\n",
       "4     -7.541563e+07  43422.400470  8630.096616 -3415.436508   754.942983\n",
       "...             ...           ...          ...          ...          ...\n",
       "65183  7.658226e+07 -44259.618208  1386.172810  2375.011317  3459.414870\n",
       "65184  7.658317e+07 -44231.845431  3221.833188 -6014.834857 -1833.635544\n",
       "65185  7.661894e+07 -44206.221356  8750.793946 -6020.024774   200.920306\n",
       "65186  7.691424e+07 -44341.101729 -4152.429060 -2927.834587  3848.531531\n",
       "65187  7.693260e+07 -44333.392243 -4032.449055 -5470.731379  4064.756676\n",
       "\n",
       "[65188 rows x 5 columns]"
      ]
     },
     "execution_count": 38,
     "metadata": {},
     "output_type": "execute_result"
    }
   ],
   "source": [
    "data1"
   ]
  },
  {
   "cell_type": "code",
   "execution_count": 39,
   "id": "82a401c0",
   "metadata": {},
   "outputs": [],
   "source": [
    "data=pd.concat([x,data1],axis=1)"
   ]
  },
  {
   "cell_type": "code",
   "execution_count": 40,
   "id": "9dc4dfe3",
   "metadata": {},
   "outputs": [
    {
     "data": {
      "text/html": [
       "<div>\n",
       "<style scoped>\n",
       "    .dataframe tbody tr th:only-of-type {\n",
       "        vertical-align: middle;\n",
       "    }\n",
       "\n",
       "    .dataframe tbody tr th {\n",
       "        vertical-align: top;\n",
       "    }\n",
       "\n",
       "    .dataframe thead th {\n",
       "        text-align: right;\n",
       "    }\n",
       "</style>\n",
       "<table border=\"1\" class=\"dataframe\">\n",
       "  <thead>\n",
       "    <tr style=\"text-align: right;\">\n",
       "      <th></th>\n",
       "      <th>CLASS</th>\n",
       "      <th>X1</th>\n",
       "      <th>X2</th>\n",
       "      <th>X3</th>\n",
       "      <th>X4</th>\n",
       "      <th>X5</th>\n",
       "    </tr>\n",
       "  </thead>\n",
       "  <tbody>\n",
       "    <tr>\n",
       "      <th>0</th>\n",
       "      <td>0</td>\n",
       "      <td>-7.640775e+07</td>\n",
       "      <td>45023.956659</td>\n",
       "      <td>-2501.368871</td>\n",
       "      <td>-5109.466536</td>\n",
       "      <td>3580.073438</td>\n",
       "    </tr>\n",
       "    <tr>\n",
       "      <th>1</th>\n",
       "      <td>0</td>\n",
       "      <td>-7.610518e+07</td>\n",
       "      <td>44840.162960</td>\n",
       "      <td>-2192.625262</td>\n",
       "      <td>-3257.817492</td>\n",
       "      <td>3234.994677</td>\n",
       "    </tr>\n",
       "    <tr>\n",
       "      <th>2</th>\n",
       "      <td>1</td>\n",
       "      <td>-7.583799e+07</td>\n",
       "      <td>44091.426311</td>\n",
       "      <td>-195.912503</td>\n",
       "      <td>-69.054740</td>\n",
       "      <td>-1015.733765</td>\n",
       "    </tr>\n",
       "    <tr>\n",
       "      <th>3</th>\n",
       "      <td>0</td>\n",
       "      <td>-7.541563e+07</td>\n",
       "      <td>43423.339655</td>\n",
       "      <td>8629.651173</td>\n",
       "      <td>-3419.425262</td>\n",
       "      <td>754.433154</td>\n",
       "    </tr>\n",
       "    <tr>\n",
       "      <th>4</th>\n",
       "      <td>0</td>\n",
       "      <td>-7.541563e+07</td>\n",
       "      <td>43422.400470</td>\n",
       "      <td>8630.096616</td>\n",
       "      <td>-3415.436508</td>\n",
       "      <td>754.942983</td>\n",
       "    </tr>\n",
       "    <tr>\n",
       "      <th>...</th>\n",
       "      <td>...</td>\n",
       "      <td>...</td>\n",
       "      <td>...</td>\n",
       "      <td>...</td>\n",
       "      <td>...</td>\n",
       "      <td>...</td>\n",
       "    </tr>\n",
       "    <tr>\n",
       "      <th>65183</th>\n",
       "      <td>0</td>\n",
       "      <td>7.658226e+07</td>\n",
       "      <td>-44259.618208</td>\n",
       "      <td>1386.172810</td>\n",
       "      <td>2375.011317</td>\n",
       "      <td>3459.414870</td>\n",
       "    </tr>\n",
       "    <tr>\n",
       "      <th>65184</th>\n",
       "      <td>1</td>\n",
       "      <td>7.658317e+07</td>\n",
       "      <td>-44231.845431</td>\n",
       "      <td>3221.833188</td>\n",
       "      <td>-6014.834857</td>\n",
       "      <td>-1833.635544</td>\n",
       "    </tr>\n",
       "    <tr>\n",
       "      <th>65185</th>\n",
       "      <td>0</td>\n",
       "      <td>7.661894e+07</td>\n",
       "      <td>-44206.221356</td>\n",
       "      <td>8750.793946</td>\n",
       "      <td>-6020.024774</td>\n",
       "      <td>200.920306</td>\n",
       "    </tr>\n",
       "    <tr>\n",
       "      <th>65186</th>\n",
       "      <td>0</td>\n",
       "      <td>7.691424e+07</td>\n",
       "      <td>-44341.101729</td>\n",
       "      <td>-4152.429060</td>\n",
       "      <td>-2927.834587</td>\n",
       "      <td>3848.531531</td>\n",
       "    </tr>\n",
       "    <tr>\n",
       "      <th>65187</th>\n",
       "      <td>0</td>\n",
       "      <td>7.693260e+07</td>\n",
       "      <td>-44333.392243</td>\n",
       "      <td>-4032.449055</td>\n",
       "      <td>-5470.731379</td>\n",
       "      <td>4064.756676</td>\n",
       "    </tr>\n",
       "  </tbody>\n",
       "</table>\n",
       "<p>65188 rows × 6 columns</p>\n",
       "</div>"
      ],
      "text/plain": [
       "       CLASS            X1            X2           X3           X4  \\\n",
       "0          0 -7.640775e+07  45023.956659 -2501.368871 -5109.466536   \n",
       "1          0 -7.610518e+07  44840.162960 -2192.625262 -3257.817492   \n",
       "2          1 -7.583799e+07  44091.426311  -195.912503   -69.054740   \n",
       "3          0 -7.541563e+07  43423.339655  8629.651173 -3419.425262   \n",
       "4          0 -7.541563e+07  43422.400470  8630.096616 -3415.436508   \n",
       "...      ...           ...           ...          ...          ...   \n",
       "65183      0  7.658226e+07 -44259.618208  1386.172810  2375.011317   \n",
       "65184      1  7.658317e+07 -44231.845431  3221.833188 -6014.834857   \n",
       "65185      0  7.661894e+07 -44206.221356  8750.793946 -6020.024774   \n",
       "65186      0  7.691424e+07 -44341.101729 -4152.429060 -2927.834587   \n",
       "65187      0  7.693260e+07 -44333.392243 -4032.449055 -5470.731379   \n",
       "\n",
       "                X5  \n",
       "0      3580.073438  \n",
       "1      3234.994677  \n",
       "2     -1015.733765  \n",
       "3       754.433154  \n",
       "4       754.942983  \n",
       "...            ...  \n",
       "65183  3459.414870  \n",
       "65184 -1833.635544  \n",
       "65185   200.920306  \n",
       "65186  3848.531531  \n",
       "65187  4064.756676  \n",
       "\n",
       "[65188 rows x 6 columns]"
      ]
     },
     "execution_count": 40,
     "metadata": {},
     "output_type": "execute_result"
    }
   ],
   "source": [
    "data"
   ]
  },
  {
   "cell_type": "code",
   "execution_count": 41,
   "id": "d6a1f9ba",
   "metadata": {},
   "outputs": [
    {
     "data": {
      "text/plain": [
       "CLASS    1.141838\n",
       "X1       0.802931\n",
       "X2       0.250266\n",
       "X3      -0.269293\n",
       "X4      -0.593555\n",
       "X5       0.361905\n",
       "dtype: float64"
      ]
     },
     "execution_count": 41,
     "metadata": {},
     "output_type": "execute_result"
    }
   ],
   "source": [
    "data.skew()"
   ]
  },
  {
   "cell_type": "code",
   "execution_count": 42,
   "id": "4fd5a8d2",
   "metadata": {},
   "outputs": [
    {
     "data": {
      "image/png": "[encoded data removed]",
      "text/plain": [
       "<Figure size 500x500 with 1 Axes>"
      ]
     },
     "metadata": {},
     "output_type": "display_data"
    },
    {
     "data": {
      "image/png": "[encoded data removed]",
      "text/plain": [
       "<Figure size 640x480 with 1 Axes>"
      ]
     },
     "metadata": {},
     "output_type": "display_data"
    },
    {
     "data": {
      "image/png": "[encoded data removed]",
      "text/plain": [
       "<Figure size 640x480 with 1 Axes>"
      ]
     },
     "metadata": {},
     "output_type": "display_data"
    },
    {
     "data": {
      "image/png": "[encoded data removed]",
      "text/plain": [
       "<Figure size 640x480 with 1 Axes>"
      ]
     },
     "metadata": {},
     "output_type": "display_data"
    },
    {
     "data": {
      "image/png": "[encoded data removed]",
      "text/plain": [
       "<Figure size 640x480 with 1 Axes>"
      ]
     },
     "metadata": {},
     "output_type": "display_data"
    },
    {
     "data": {
      "image/png": "[encoded data removed]",
      "text/plain": [
       "<Figure size 640x480 with 1 Axes>"
      ]
     },
     "metadata": {},
     "output_type": "display_data"
    }
   ],
   "source": [
    "mlp.figure(figsize=(5,5))\n",
    "for i in data:\n",
    "    mlp.boxplot(data[i])\n",
    "    mlp.title(i)\n",
    "    mlp.show()"
   ]
  },
  {
   "cell_type": "code",
   "execution_count": 43,
   "id": "124d3586",
   "metadata": {},
   "outputs": [
    {
     "data": {
      "text/plain": [
       "[80203616.97749528]"
      ]
     },
     "execution_count": 43,
     "metadata": {},
     "output_type": "execute_result"
    }
   ],
   "source": [
    "IQR=[]\n",
    "IQR.append(data[\"X1\"].quantile(0.75)-data[\"X1\"].quantile(0.25))\n",
    "IQR"
   ]
  },
  {
   "cell_type": "code",
   "execution_count": 44,
   "id": "cb7661e4",
   "metadata": {},
   "outputs": [
    {
     "data": {
      "text/plain": [
       "[80203616.97749528, 155474897.66708818]"
      ]
     },
     "execution_count": 44,
     "metadata": {},
     "output_type": "execute_result"
    }
   ],
   "source": [
    "upper=[]\n",
    "IQR.append(data[\"X1\"].quantile(0.75)+1.5*IQR[0])\n",
    "IQR"
   ]
  },
  {
   "cell_type": "code",
   "execution_count": 45,
   "id": "c31ca5c5",
   "metadata": {},
   "outputs": [
    {
     "data": {
      "text/plain": [
       "[80203616.97749528, 155474897.66708818, -165339570.24289295]"
      ]
     },
     "execution_count": 45,
     "metadata": {},
     "output_type": "execute_result"
    }
   ],
   "source": [
    "lower=[]\n",
    "IQR.append(data[\"X1\"].quantile(0.25)-1.5*IQR[0])\n",
    "IQR"
   ]
  },
  {
   "cell_type": "code",
   "execution_count": 46,
   "id": "404035e5",
   "metadata": {},
   "outputs": [],
   "source": [
    "data['X1']=np.where(data['X1']>155474897.66708818,155474897.66708818,np.where(data['X1']<-165339570.24289295,-165339570.24289295,data['X1']))"
   ]
  },
  {
   "cell_type": "code",
   "execution_count": 47,
   "id": "0f9e7bad",
   "metadata": {},
   "outputs": [
    {
     "data": {
      "text/plain": [
       "[21142.130876336683]"
      ]
     },
     "execution_count": 47,
     "metadata": {},
     "output_type": "execute_result"
    }
   ],
   "source": [
    "IQR=[]\n",
    "IQR.append(data[\"X2\"].quantile(0.75)-data[\"X2\"].quantile(0.25))\n",
    "IQR"
   ]
  },
  {
   "cell_type": "code",
   "execution_count": 48,
   "id": "551bdc4a",
   "metadata": {},
   "outputs": [
    {
     "data": {
      "text/plain": [
       "[21142.130876336683, 41209.50752840652]"
      ]
     },
     "execution_count": 48,
     "metadata": {},
     "output_type": "execute_result"
    }
   ],
   "source": [
    "upper=[]\n",
    "IQR.append(data[\"X2\"].quantile(0.75)+1.5*IQR[0])\n",
    "IQR"
   ]
  },
  {
   "cell_type": "code",
   "execution_count": 49,
   "id": "41346b57",
   "metadata": {},
   "outputs": [
    {
     "data": {
      "text/plain": [
       "[21142.130876336683, 41209.50752840652, -43359.015976940216]"
      ]
     },
     "execution_count": 49,
     "metadata": {},
     "output_type": "execute_result"
    }
   ],
   "source": [
    "lower=[]\n",
    "IQR.append(data[\"X2\"].quantile(0.25)-1.5*IQR[0])\n",
    "IQR"
   ]
  },
  {
   "cell_type": "code",
   "execution_count": 50,
   "id": "2bfc229b",
   "metadata": {},
   "outputs": [],
   "source": [
    "data['X2']=np.where(data['X2']>41209.50752840652,41209.50752840652,np.where(data['X2']<-43359.015976939874,-43359.015976939874,data['X2']))"
   ]
  },
  {
   "cell_type": "code",
   "execution_count": 51,
   "id": "bc6a5130",
   "metadata": {},
   "outputs": [
    {
     "data": {
      "image/png": "[encoded data removed]",
      "text/plain": [
       "<Figure size 500x500 with 1 Axes>"
      ]
     },
     "metadata": {},
     "output_type": "display_data"
    },
    {
     "data": {
      "image/png": "[encoded data removed]",
      "text/plain": [
       "<Figure size 640x480 with 1 Axes>"
      ]
     },
     "metadata": {},
     "output_type": "display_data"
    },
    {
     "data": {
      "image/png": "[encoded data removed]",
      "text/plain": [
       "<Figure size 640x480 with 1 Axes>"
      ]
     },
     "metadata": {},
     "output_type": "display_data"
    },
    {
     "data": {
      "image/png": "[encoded data removed]",
      "text/plain": [
       "<Figure size 640x480 with 1 Axes>"
      ]
     },
     "metadata": {},
     "output_type": "display_data"
    },
    {
     "data": {
      "image/png": "[encoded data removed]",
      "text/plain": [
       "<Figure size 640x480 with 1 Axes>"
      ]
     },
     "metadata": {},
     "output_type": "display_data"
    },
    {
     "data": {
      "image/png": "[encoded data removed]",
      "text/plain": [
       "<Figure size 640x480 with 1 Axes>"
      ]
     },
     "metadata": {},
     "output_type": "display_data"
    }
   ],
   "source": [
    "mlp.figure(figsize=(5,5))\n",
    "for i in data:\n",
    "    mlp.boxplot(data[i])\n",
    "    mlp.title(i)\n",
    "    mlp.show()"
   ]
  },
  {
   "cell_type": "markdown",
   "id": "45133989",
   "metadata": {},
   "source": [
    "# Spliting of data for test train"
   ]
  },
  {
   "cell_type": "code",
   "execution_count": 52,
   "id": "04946db9",
   "metadata": {},
   "outputs": [],
   "source": [
    "y=data.iloc[:,[0]].values\n",
    "x=data.iloc[:,1:].values"
   ]
  },
  {
   "cell_type": "code",
   "execution_count": 53,
   "id": "f32f595e",
   "metadata": {},
   "outputs": [
    {
     "data": {
      "text/plain": [
       "(65188, 5)"
      ]
     },
     "execution_count": 53,
     "metadata": {},
     "output_type": "execute_result"
    }
   ],
   "source": [
    "x.shape"
   ]
  },
  {
   "cell_type": "code",
   "execution_count": 54,
   "id": "57a3d9a7",
   "metadata": {},
   "outputs": [
    {
     "data": {
      "text/plain": [
       "(65188, 1)"
      ]
     },
     "execution_count": 54,
     "metadata": {},
     "output_type": "execute_result"
    }
   ],
   "source": [
    "y.shape"
   ]
  },
  {
   "cell_type": "code",
   "execution_count": 55,
   "id": "da251927",
   "metadata": {},
   "outputs": [],
   "source": [
    "from sklearn.model_selection import train_test_split\n",
    "x_train,x_test,y_train,y_test=train_test_split(x,y,test_size=0.3,random_state=0)"
   ]
  },
  {
   "cell_type": "code",
   "execution_count": 56,
   "id": "8b4275b8",
   "metadata": {},
   "outputs": [
    {
     "data": {
      "text/plain": [
       "(45631, 5)"
      ]
     },
     "execution_count": 56,
     "metadata": {},
     "output_type": "execute_result"
    }
   ],
   "source": [
    "x_train.shape"
   ]
  },
  {
   "cell_type": "code",
   "execution_count": 57,
   "id": "ba59310a",
   "metadata": {},
   "outputs": [
    {
     "data": {
      "text/plain": [
       "(45631, 1)"
      ]
     },
     "execution_count": 57,
     "metadata": {},
     "output_type": "execute_result"
    }
   ],
   "source": [
    "y_train.shape"
   ]
  },
  {
   "cell_type": "code",
   "execution_count": 58,
   "id": "0ab365a2",
   "metadata": {},
   "outputs": [
    {
     "data": {
      "text/plain": [
       "(19557, 5)"
      ]
     },
     "execution_count": 58,
     "metadata": {},
     "output_type": "execute_result"
    }
   ],
   "source": [
    "x_test.shape"
   ]
  },
  {
   "cell_type": "code",
   "execution_count": 59,
   "id": "235a0a9c",
   "metadata": {},
   "outputs": [
    {
     "data": {
      "text/plain": [
       "(19557, 1)"
      ]
     },
     "execution_count": 59,
     "metadata": {},
     "output_type": "execute_result"
    }
   ],
   "source": [
    "y_test.shape"
   ]
  },
  {
   "cell_type": "code",
   "execution_count": null,
   "id": "62143d88",
   "metadata": {},
   "outputs": [],
   "source": []
  },
  {
   "cell_type": "code",
   "execution_count": null,
   "id": "806f7041",
   "metadata": {},
   "outputs": [],
   "source": []
  },
  {
   "cell_type": "code",
   "execution_count": null,
   "id": "ffe908f6",
   "metadata": {},
   "outputs": [],
   "source": []
  },
  {
   "cell_type": "code",
   "execution_count": 62,
   "id": "bfe75070",
   "metadata": {},
   "outputs": [],
   "source": [
    "logpred=log.predict(x_test)"
   ]
  },
  {
   "cell_type": "code",
   "execution_count": 63,
   "id": "1bc2be96",
   "metadata": {},
   "outputs": [
    {
     "data": {
      "text/plain": [
       "array([0, 0, 0, ..., 1, 1, 0], dtype=int64)"
      ]
     },
     "execution_count": 63,
     "metadata": {},
     "output_type": "execute_result"
    }
   ],
   "source": [
    "logpred"
   ]
  },
  {
   "cell_type": "code",
   "execution_count": 64,
   "id": "33840603",
   "metadata": {},
   "outputs": [
    {
     "data": {
      "text/plain": [
       "array([[1],\n",
       "       [1],\n",
       "       [0],\n",
       "       ...,\n",
       "       [0],\n",
       "       [0],\n",
       "       [0]], dtype=int64)"
      ]
     },
     "execution_count": 64,
     "metadata": {},
     "output_type": "execute_result"
    }
   ],
   "source": [
    "y_test"
   ]
  },
  {
   "cell_type": "code",
   "execution_count": 65,
   "id": "31e9c0e4",
   "metadata": {},
   "outputs": [],
   "source": [
    "from sklearn.metrics import accuracy_score,confusion_matrix\n",
    "accuracy=accuracy_score(y_test,logpred)\n",
    "cm=confusion_matrix(y_test,logpred)"
   ]
  },
  {
   "cell_type": "code",
   "execution_count": 66,
   "id": "751383e6",
   "metadata": {},
   "outputs": [
    {
     "data": {
      "text/plain": [
       "0.5424144807485811"
      ]
     },
     "execution_count": 66,
     "metadata": {},
     "output_type": "execute_result"
    }
   ],
   "source": [
    "accuracy"
   ]
  },
  {
   "cell_type": "code",
   "execution_count": 67,
   "id": "7f96e5c0",
   "metadata": {},
   "outputs": [
    {
     "data": {
      "text/plain": [
       "array([[8575, 6097],\n",
       "       [2852, 2033]], dtype=int64)"
      ]
     },
     "execution_count": 67,
     "metadata": {},
     "output_type": "execute_result"
    }
   ],
   "source": [
    "cm"
   ]
  },
  {
   "cell_type": "code",
   "execution_count": 68,
   "id": "f3b99e59",
   "metadata": {},
   "outputs": [
    {
     "data": {
      "text/plain": [
       "0.5003092599248361"
      ]
     },
     "execution_count": 68,
     "metadata": {},
     "output_type": "execute_result"
    }
   ],
   "source": [
    "import sklearn.metrics as metrics\n",
    "fpr,tpr,thershold=metrics.roc_curve(y_test,logpred)\n",
    "roc_auc=metrics.auc(fpr,tpr)\n",
    "roc_auc"
   ]
  },
  {
   "cell_type": "code",
   "execution_count": 69,
   "id": "6755df74",
   "metadata": {},
   "outputs": [],
   "source": [
    "from sklearn.tree import DecisionTreeClassifier"
   ]
  },
  {
   "cell_type": "code",
   "execution_count": 70,
   "id": "066ff282",
   "metadata": {},
   "outputs": [
    {
     "data": {
      "text/html": [
       "<style>#sk-container-id-2 {color: black;}#sk-container-id-2 pre{padding: 0;}#sk-container-id-2 div.sk-toggleable {background-color: white;}#sk-container-id-2 label.sk-toggleable__label {cursor: pointer;display: block;width: 100%;margin-bottom: 0;padding: 0.3em;box-sizing: border-box;text-align: center;}#sk-container-id-2 label.sk-toggleable__label-arrow:before {content: \"▸\";float: left;margin-right: 0.25em;color: #696969;}#sk-container-id-2 label.sk-toggleable__label-arrow:hover:before {color: black;}#sk-container-id-2 div.sk-estimator:hover label.sk-toggleable__label-arrow:before {color: black;}#sk-container-id-2 div.sk-toggleable__content {max-height: 0;max-width: 0;overflow: hidden;text-align: left;background-color: #f0f8ff;}#sk-container-id-2 div.sk-toggleable__content pre {margin: 0.2em;color: black;border-radius: 0.25em;background-color: #f0f8ff;}#sk-container-id-2 input.sk-toggleable__control:checked~div.sk-toggleable__content {max-height: 200px;max-width: 100%;overflow: auto;}#sk-container-id-2 input.sk-toggleable__control:checked~label.sk-toggleable__label-arrow:before {content: \"▾\";}#sk-container-id-2 div.sk-estimator input.sk-toggleable__control:checked~label.sk-toggleable__label {background-color: #d4ebff;}#sk-container-id-2 div.sk-label input.sk-toggleable__control:checked~label.sk-toggleable__label {background-color: #d4ebff;}#sk-container-id-2 input.sk-hidden--visually {border: 0;clip: rect(1px 1px 1px 1px);clip: rect(1px, 1px, 1px, 1px);height: 1px;margin: -1px;overflow: hidden;padding: 0;position: absolute;width: 1px;}#sk-container-id-2 div.sk-estimator {font-family: monospace;background-color: #f0f8ff;border: 1px dotted black;border-radius: 0.25em;box-sizing: border-box;margin-bottom: 0.5em;}#sk-container-id-2 div.sk-estimator:hover {background-color: #d4ebff;}#sk-container-id-2 div.sk-parallel-item::after {content: \"\";width: 100%;border-bottom: 1px solid gray;flex-grow: 1;}#sk-container-id-2 div.sk-label:hover label.sk-toggleable__label {background-color: #d4ebff;}#sk-container-id-2 div.sk-serial::before {content: \"\";position: absolute;border-left: 1px solid gray;box-sizing: border-box;top: 0;bottom: 0;left: 50%;z-index: 0;}#sk-container-id-2 div.sk-serial {display: flex;flex-direction: column;align-items: center;background-color: white;padding-right: 0.2em;padding-left: 0.2em;position: relative;}#sk-container-id-2 div.sk-item {position: relative;z-index: 1;}#sk-container-id-2 div.sk-parallel {display: flex;align-items: stretch;justify-content: center;background-color: white;position: relative;}#sk-container-id-2 div.sk-item::before, #sk-container-id-2 div.sk-parallel-item::before {content: \"\";position: absolute;border-left: 1px solid gray;box-sizing: border-box;top: 0;bottom: 0;left: 50%;z-index: -1;}#sk-container-id-2 div.sk-parallel-item {display: flex;flex-direction: column;z-index: 1;position: relative;background-color: white;}#sk-container-id-2 div.sk-parallel-item:first-child::after {align-self: flex-end;width: 50%;}#sk-container-id-2 div.sk-parallel-item:last-child::after {align-self: flex-start;width: 50%;}#sk-container-id-2 div.sk-parallel-item:only-child::after {width: 0;}#sk-container-id-2 div.sk-dashed-wrapped {border: 1px dashed gray;margin: 0 0.4em 0.5em 0.4em;box-sizing: border-box;padding-bottom: 0.4em;background-color: white;}#sk-container-id-2 div.sk-label label {font-family: monospace;font-weight: bold;display: inline-block;line-height: 1.2em;}#sk-container-id-2 div.sk-label-container {text-align: center;}#sk-container-id-2 div.sk-container {/* jupyter's `normalize.less` sets `[hidden] { display: none; }` but bootstrap.min.css set `[hidden] { display: none !important; }` so we also need the `!important` here to be able to override the default hidden behavior on the sphinx rendered scikit-learn.org. See: https://github.com/scikit-learn/scikit-learn/issues/21755 */display: inline-block !important;position: relative;}#sk-container-id-2 div.sk-text-repr-fallback {display: none;}</style><div id=\"sk-container-id-2\" class=\"sk-top-container\"><div class=\"sk-text-repr-fallback\"><pre>DecisionTreeClassifier()</pre><b>In a Jupyter environment, please rerun this cell to show the HTML representation or trust the notebook. <br />On GitHub, the HTML representation is unable to render, please try loading this page with nbviewer.org.</b></div><div class=\"sk-container\" hidden><div class=\"sk-item\"><div class=\"sk-estimator sk-toggleable\"><input class=\"sk-toggleable__control sk-hidden--visually\" id=\"sk-estimator-id-2\" type=\"checkbox\" checked><label for=\"sk-estimator-id-2\" class=\"sk-toggleable__label sk-toggleable__label-arrow\">DecisionTreeClassifier</label><div class=\"sk-toggleable__content\"><pre>DecisionTreeClassifier()</pre></div></div></div></div></div>"
      ],
      "text/plain": [
       "DecisionTreeClassifier()"
      ]
     },
     "execution_count": 70,
     "metadata": {},
     "output_type": "execute_result"
    }
   ],
   "source": [
    "dtc=DecisionTreeClassifier()\n",
    "dtc.fit(x_train,y_train)\n"
   ]
  },
  {
   "cell_type": "code",
   "execution_count": 71,
   "id": "dfdcf72d",
   "metadata": {},
   "outputs": [],
   "source": [
    "dtcpred=dtc.predict(x_test)"
   ]
  },
  {
   "cell_type": "code",
   "execution_count": 72,
   "id": "3be5879d",
   "metadata": {},
   "outputs": [
    {
     "data": {
      "text/plain": [
       "array([0, 0, 0, ..., 0, 0, 0], dtype=int64)"
      ]
     },
     "execution_count": 72,
     "metadata": {},
     "output_type": "execute_result"
    }
   ],
   "source": [
    "dtcpred"
   ]
  },
  {
   "cell_type": "code",
   "execution_count": 73,
   "id": "33219439",
   "metadata": {},
   "outputs": [
    {
     "data": {
      "text/plain": [
       "array([[1],\n",
       "       [1],\n",
       "       [0],\n",
       "       ...,\n",
       "       [0],\n",
       "       [0],\n",
       "       [0]], dtype=int64)"
      ]
     },
     "execution_count": 73,
     "metadata": {},
     "output_type": "execute_result"
    }
   ],
   "source": [
    "y_test"
   ]
  },
  {
   "cell_type": "code",
   "execution_count": 74,
   "id": "15cd7a3a",
   "metadata": {},
   "outputs": [],
   "source": [
    "accuracy=accuracy_score(y_test,dtcpred)\n",
    "cm=confusion_matrix(y_test,dtcpred)"
   ]
  },
  {
   "cell_type": "code",
   "execution_count": 75,
   "id": "99cf0a40",
   "metadata": {},
   "outputs": [
    {
     "data": {
      "text/plain": [
       "0.655315232397607"
      ]
     },
     "execution_count": 75,
     "metadata": {},
     "output_type": "execute_result"
    }
   ],
   "source": [
    "accuracy"
   ]
  },
  {
   "cell_type": "code",
   "execution_count": 76,
   "id": "b9ec981c",
   "metadata": {},
   "outputs": [
    {
     "data": {
      "text/plain": [
       "array([[11240,  3432],\n",
       "       [ 3309,  1576]], dtype=int64)"
      ]
     },
     "execution_count": 76,
     "metadata": {},
     "output_type": "execute_result"
    }
   ],
   "source": [
    "cm"
   ]
  },
  {
   "cell_type": "code",
   "execution_count": 77,
   "id": "b1783aeb",
   "metadata": {},
   "outputs": [
    {
     "data": {
      "text/plain": [
       "0.5443526630494839"
      ]
     },
     "execution_count": 77,
     "metadata": {},
     "output_type": "execute_result"
    }
   ],
   "source": [
    "fpr,tpr,thershold=metrics.roc_curve(y_test,dtcpred)\n",
    "roc_auc=metrics.auc(fpr,tpr)\n",
    "roc_auc"
   ]
  },
  {
   "cell_type": "code",
   "execution_count": 78,
   "id": "e62b2263",
   "metadata": {},
   "outputs": [
    {
     "name": "stderr",
     "output_type": "stream",
     "text": [
      "C:\\Users\\yuvar\\AppData\\Roaming\\Python\\Python310\\site-packages\\sklearn\\base.py:1151: DataConversionWarning: A column-vector y was passed when a 1d array was expected. Please change the shape of y to (n_samples,), for example using ravel().\n",
      "  return fit_method(estimator, *args, **kwargs)\n"
     ]
    },
    {
     "data": {
      "text/html": [
       "<style>#sk-container-id-3 {color: black;}#sk-container-id-3 pre{padding: 0;}#sk-container-id-3 div.sk-toggleable {background-color: white;}#sk-container-id-3 label.sk-toggleable__label {cursor: pointer;display: block;width: 100%;margin-bottom: 0;padding: 0.3em;box-sizing: border-box;text-align: center;}#sk-container-id-3 label.sk-toggleable__label-arrow:before {content: \"▸\";float: left;margin-right: 0.25em;color: #696969;}#sk-container-id-3 label.sk-toggleable__label-arrow:hover:before {color: black;}#sk-container-id-3 div.sk-estimator:hover label.sk-toggleable__label-arrow:before {color: black;}#sk-container-id-3 div.sk-toggleable__content {max-height: 0;max-width: 0;overflow: hidden;text-align: left;background-color: #f0f8ff;}#sk-container-id-3 div.sk-toggleable__content pre {margin: 0.2em;color: black;border-radius: 0.25em;background-color: #f0f8ff;}#sk-container-id-3 input.sk-toggleable__control:checked~div.sk-toggleable__content {max-height: 200px;max-width: 100%;overflow: auto;}#sk-container-id-3 input.sk-toggleable__control:checked~label.sk-toggleable__label-arrow:before {content: \"▾\";}#sk-container-id-3 div.sk-estimator input.sk-toggleable__control:checked~label.sk-toggleable__label {background-color: #d4ebff;}#sk-container-id-3 div.sk-label input.sk-toggleable__control:checked~label.sk-toggleable__label {background-color: #d4ebff;}#sk-container-id-3 input.sk-hidden--visually {border: 0;clip: rect(1px 1px 1px 1px);clip: rect(1px, 1px, 1px, 1px);height: 1px;margin: -1px;overflow: hidden;padding: 0;position: absolute;width: 1px;}#sk-container-id-3 div.sk-estimator {font-family: monospace;background-color: #f0f8ff;border: 1px dotted black;border-radius: 0.25em;box-sizing: border-box;margin-bottom: 0.5em;}#sk-container-id-3 div.sk-estimator:hover {background-color: #d4ebff;}#sk-container-id-3 div.sk-parallel-item::after {content: \"\";width: 100%;border-bottom: 1px solid gray;flex-grow: 1;}#sk-container-id-3 div.sk-label:hover label.sk-toggleable__label {background-color: #d4ebff;}#sk-container-id-3 div.sk-serial::before {content: \"\";position: absolute;border-left: 1px solid gray;box-sizing: border-box;top: 0;bottom: 0;left: 50%;z-index: 0;}#sk-container-id-3 div.sk-serial {display: flex;flex-direction: column;align-items: center;background-color: white;padding-right: 0.2em;padding-left: 0.2em;position: relative;}#sk-container-id-3 div.sk-item {position: relative;z-index: 1;}#sk-container-id-3 div.sk-parallel {display: flex;align-items: stretch;justify-content: center;background-color: white;position: relative;}#sk-container-id-3 div.sk-item::before, #sk-container-id-3 div.sk-parallel-item::before {content: \"\";position: absolute;border-left: 1px solid gray;box-sizing: border-box;top: 0;bottom: 0;left: 50%;z-index: -1;}#sk-container-id-3 div.sk-parallel-item {display: flex;flex-direction: column;z-index: 1;position: relative;background-color: white;}#sk-container-id-3 div.sk-parallel-item:first-child::after {align-self: flex-end;width: 50%;}#sk-container-id-3 div.sk-parallel-item:last-child::after {align-self: flex-start;width: 50%;}#sk-container-id-3 div.sk-parallel-item:only-child::after {width: 0;}#sk-container-id-3 div.sk-dashed-wrapped {border: 1px dashed gray;margin: 0 0.4em 0.5em 0.4em;box-sizing: border-box;padding-bottom: 0.4em;background-color: white;}#sk-container-id-3 div.sk-label label {font-family: monospace;font-weight: bold;display: inline-block;line-height: 1.2em;}#sk-container-id-3 div.sk-label-container {text-align: center;}#sk-container-id-3 div.sk-container {/* jupyter's `normalize.less` sets `[hidden] { display: none; }` but bootstrap.min.css set `[hidden] { display: none !important; }` so we also need the `!important` here to be able to override the default hidden behavior on the sphinx rendered scikit-learn.org. See: https://github.com/scikit-learn/scikit-learn/issues/21755 */display: inline-block !important;position: relative;}#sk-container-id-3 div.sk-text-repr-fallback {display: none;}</style><div id=\"sk-container-id-3\" class=\"sk-top-container\"><div class=\"sk-text-repr-fallback\"><pre>RandomForestClassifier(random_state=0)</pre><b>In a Jupyter environment, please rerun this cell to show the HTML representation or trust the notebook. <br />On GitHub, the HTML representation is unable to render, please try loading this page with nbviewer.org.</b></div><div class=\"sk-container\" hidden><div class=\"sk-item\"><div class=\"sk-estimator sk-toggleable\"><input class=\"sk-toggleable__control sk-hidden--visually\" id=\"sk-estimator-id-3\" type=\"checkbox\" checked><label for=\"sk-estimator-id-3\" class=\"sk-toggleable__label sk-toggleable__label-arrow\">RandomForestClassifier</label><div class=\"sk-toggleable__content\"><pre>RandomForestClassifier(random_state=0)</pre></div></div></div></div></div>"
      ],
      "text/plain": [
       "RandomForestClassifier(random_state=0)"
      ]
     },
     "execution_count": 78,
     "metadata": {},
     "output_type": "execute_result"
    }
   ],
   "source": [
    "from sklearn.ensemble import RandomForestClassifier\n",
    "rfc=RandomForestClassifier(random_state=0)\n",
    "rfc.fit(x_train,y_train)"
   ]
  },
  {
   "cell_type": "code",
   "execution_count": 79,
   "id": "7254f89d",
   "metadata": {},
   "outputs": [],
   "source": [
    "rfcpred=rfc.predict(x_test)"
   ]
  },
  {
   "cell_type": "code",
   "execution_count": 80,
   "id": "97b8d51e",
   "metadata": {},
   "outputs": [
    {
     "data": {
      "text/plain": [
       "array([0, 0, 0, ..., 0, 0, 0], dtype=int64)"
      ]
     },
     "execution_count": 80,
     "metadata": {},
     "output_type": "execute_result"
    }
   ],
   "source": [
    "rfcpred"
   ]
  },
  {
   "cell_type": "code",
   "execution_count": 81,
   "id": "ecb453db",
   "metadata": {},
   "outputs": [
    {
     "data": {
      "text/plain": [
       "array([[1],\n",
       "       [1],\n",
       "       [0],\n",
       "       ...,\n",
       "       [0],\n",
       "       [0],\n",
       "       [0]], dtype=int64)"
      ]
     },
     "execution_count": 81,
     "metadata": {},
     "output_type": "execute_result"
    }
   ],
   "source": [
    "y_test"
   ]
  },
  {
   "cell_type": "code",
   "execution_count": 82,
   "id": "e8d86797",
   "metadata": {},
   "outputs": [],
   "source": [
    "accuracy=accuracy_score(y_test,rfcpred)\n",
    "cm=confusion_matrix(y_test,rfcpred)"
   ]
  },
  {
   "cell_type": "code",
   "execution_count": 83,
   "id": "05a147c1",
   "metadata": {},
   "outputs": [
    {
     "data": {
      "text/plain": [
       "0.7162141432735082"
      ]
     },
     "execution_count": 83,
     "metadata": {},
     "output_type": "execute_result"
    }
   ],
   "source": [
    "accuracy"
   ]
  },
  {
   "cell_type": "code",
   "execution_count": 84,
   "id": "a547df02",
   "metadata": {},
   "outputs": [
    {
     "data": {
      "text/plain": [
       "array([[13002,  1670],\n",
       "       [ 3880,  1005]], dtype=int64)"
      ]
     },
     "execution_count": 84,
     "metadata": {},
     "output_type": "execute_result"
    }
   ],
   "source": [
    "cm"
   ]
  },
  {
   "cell_type": "code",
   "execution_count": 85,
   "id": "1e7e5ec0",
   "metadata": {},
   "outputs": [
    {
     "data": {
      "text/plain": [
       "0.5459547928416837"
      ]
     },
     "execution_count": 85,
     "metadata": {},
     "output_type": "execute_result"
    }
   ],
   "source": [
    "fpr,tpr,thershold=metrics.roc_curve(y_test,rfcpred)\n",
    "roc_auc=metrics.auc(fpr,tpr)\n",
    "roc_auc"
   ]
  },
  {
   "cell_type": "code",
   "execution_count": 86,
   "id": "904986af",
   "metadata": {},
   "outputs": [],
   "source": [
    "from sklearn.neighbors import KNeighborsClassifier\n",
    "neigh = KNeighborsClassifier(n_neighbors=3)"
   ]
  },
  {
   "cell_type": "code",
   "execution_count": 87,
   "id": "c935d6a6",
   "metadata": {},
   "outputs": [
    {
     "name": "stderr",
     "output_type": "stream",
     "text": [
      "C:\\Users\\yuvar\\AppData\\Roaming\\Python\\Python310\\site-packages\\sklearn\\neighbors\\_classification.py:228: DataConversionWarning: A column-vector y was passed when a 1d array was expected. Please change the shape of y to (n_samples,), for example using ravel().\n",
      "  return self._fit(X, y)\n"
     ]
    },
    {
     "data": {
      "text/html": [
       "<style>#sk-container-id-4 {color: black;}#sk-container-id-4 pre{padding: 0;}#sk-container-id-4 div.sk-toggleable {background-color: white;}#sk-container-id-4 label.sk-toggleable__label {cursor: pointer;display: block;width: 100%;margin-bottom: 0;padding: 0.3em;box-sizing: border-box;text-align: center;}#sk-container-id-4 label.sk-toggleable__label-arrow:before {content: \"▸\";float: left;margin-right: 0.25em;color: #696969;}#sk-container-id-4 label.sk-toggleable__label-arrow:hover:before {color: black;}#sk-container-id-4 div.sk-estimator:hover label.sk-toggleable__label-arrow:before {color: black;}#sk-container-id-4 div.sk-toggleable__content {max-height: 0;max-width: 0;overflow: hidden;text-align: left;background-color: #f0f8ff;}#sk-container-id-4 div.sk-toggleable__content pre {margin: 0.2em;color: black;border-radius: 0.25em;background-color: #f0f8ff;}#sk-container-id-4 input.sk-toggleable__control:checked~div.sk-toggleable__content {max-height: 200px;max-width: 100%;overflow: auto;}#sk-container-id-4 input.sk-toggleable__control:checked~label.sk-toggleable__label-arrow:before {content: \"▾\";}#sk-container-id-4 div.sk-estimator input.sk-toggleable__control:checked~label.sk-toggleable__label {background-color: #d4ebff;}#sk-container-id-4 div.sk-label input.sk-toggleable__control:checked~label.sk-toggleable__label {background-color: #d4ebff;}#sk-container-id-4 input.sk-hidden--visually {border: 0;clip: rect(1px 1px 1px 1px);clip: rect(1px, 1px, 1px, 1px);height: 1px;margin: -1px;overflow: hidden;padding: 0;position: absolute;width: 1px;}#sk-container-id-4 div.sk-estimator {font-family: monospace;background-color: #f0f8ff;border: 1px dotted black;border-radius: 0.25em;box-sizing: border-box;margin-bottom: 0.5em;}#sk-container-id-4 div.sk-estimator:hover {background-color: #d4ebff;}#sk-container-id-4 div.sk-parallel-item::after {content: \"\";width: 100%;border-bottom: 1px solid gray;flex-grow: 1;}#sk-container-id-4 div.sk-label:hover label.sk-toggleable__label {background-color: #d4ebff;}#sk-container-id-4 div.sk-serial::before {content: \"\";position: absolute;border-left: 1px solid gray;box-sizing: border-box;top: 0;bottom: 0;left: 50%;z-index: 0;}#sk-container-id-4 div.sk-serial {display: flex;flex-direction: column;align-items: center;background-color: white;padding-right: 0.2em;padding-left: 0.2em;position: relative;}#sk-container-id-4 div.sk-item {position: relative;z-index: 1;}#sk-container-id-4 div.sk-parallel {display: flex;align-items: stretch;justify-content: center;background-color: white;position: relative;}#sk-container-id-4 div.sk-item::before, #sk-container-id-4 div.sk-parallel-item::before {content: \"\";position: absolute;border-left: 1px solid gray;box-sizing: border-box;top: 0;bottom: 0;left: 50%;z-index: -1;}#sk-container-id-4 div.sk-parallel-item {display: flex;flex-direction: column;z-index: 1;position: relative;background-color: white;}#sk-container-id-4 div.sk-parallel-item:first-child::after {align-self: flex-end;width: 50%;}#sk-container-id-4 div.sk-parallel-item:last-child::after {align-self: flex-start;width: 50%;}#sk-container-id-4 div.sk-parallel-item:only-child::after {width: 0;}#sk-container-id-4 div.sk-dashed-wrapped {border: 1px dashed gray;margin: 0 0.4em 0.5em 0.4em;box-sizing: border-box;padding-bottom: 0.4em;background-color: white;}#sk-container-id-4 div.sk-label label {font-family: monospace;font-weight: bold;display: inline-block;line-height: 1.2em;}#sk-container-id-4 div.sk-label-container {text-align: center;}#sk-container-id-4 div.sk-container {/* jupyter's `normalize.less` sets `[hidden] { display: none; }` but bootstrap.min.css set `[hidden] { display: none !important; }` so we also need the `!important` here to be able to override the default hidden behavior on the sphinx rendered scikit-learn.org. See: https://github.com/scikit-learn/scikit-learn/issues/21755 */display: inline-block !important;position: relative;}#sk-container-id-4 div.sk-text-repr-fallback {display: none;}</style><div id=\"sk-container-id-4\" class=\"sk-top-container\"><div class=\"sk-text-repr-fallback\"><pre>KNeighborsClassifier(n_neighbors=3)</pre><b>In a Jupyter environment, please rerun this cell to show the HTML representation or trust the notebook. <br />On GitHub, the HTML representation is unable to render, please try loading this page with nbviewer.org.</b></div><div class=\"sk-container\" hidden><div class=\"sk-item\"><div class=\"sk-estimator sk-toggleable\"><input class=\"sk-toggleable__control sk-hidden--visually\" id=\"sk-estimator-id-4\" type=\"checkbox\" checked><label for=\"sk-estimator-id-4\" class=\"sk-toggleable__label sk-toggleable__label-arrow\">KNeighborsClassifier</label><div class=\"sk-toggleable__content\"><pre>KNeighborsClassifier(n_neighbors=3)</pre></div></div></div></div></div>"
      ],
      "text/plain": [
       "KNeighborsClassifier(n_neighbors=3)"
      ]
     },
     "execution_count": 87,
     "metadata": {},
     "output_type": "execute_result"
    }
   ],
   "source": [
    "neigh.fit(x_train,y_train)"
   ]
  },
  {
   "cell_type": "code",
   "execution_count": 88,
   "id": "a15f55fb",
   "metadata": {},
   "outputs": [],
   "source": [
    "neipred=neigh.predict(x_test)"
   ]
  },
  {
   "cell_type": "code",
   "execution_count": 89,
   "id": "f1ca9782",
   "metadata": {},
   "outputs": [
    {
     "data": {
      "text/plain": [
       "array([0, 0, 0, ..., 0, 0, 0], dtype=int64)"
      ]
     },
     "execution_count": 89,
     "metadata": {},
     "output_type": "execute_result"
    }
   ],
   "source": [
    "neipred"
   ]
  },
  {
   "cell_type": "code",
   "execution_count": 90,
   "id": "da2826fe",
   "metadata": {},
   "outputs": [
    {
     "data": {
      "text/plain": [
       "array([[1],\n",
       "       [1],\n",
       "       [0],\n",
       "       ...,\n",
       "       [0],\n",
       "       [0],\n",
       "       [0]], dtype=int64)"
      ]
     },
     "execution_count": 90,
     "metadata": {},
     "output_type": "execute_result"
    }
   ],
   "source": [
    "y_test"
   ]
  },
  {
   "cell_type": "code",
   "execution_count": 91,
   "id": "8e603f21",
   "metadata": {},
   "outputs": [],
   "source": [
    "accuracy=accuracy_score(y_test,neipred)\n",
    "cm=confusion_matrix(y_test,neipred)"
   ]
  },
  {
   "cell_type": "code",
   "execution_count": 92,
   "id": "d1aa0794",
   "metadata": {},
   "outputs": [
    {
     "data": {
      "text/plain": [
       "0.6947384568185304"
      ]
     },
     "execution_count": 92,
     "metadata": {},
     "output_type": "execute_result"
    }
   ],
   "source": [
    "accuracy"
   ]
  },
  {
   "cell_type": "code",
   "execution_count": 93,
   "id": "0e6ca76a",
   "metadata": {},
   "outputs": [
    {
     "data": {
      "text/plain": [
       "array([[12393,  2279],\n",
       "       [ 3691,  1194]], dtype=int64)"
      ]
     },
     "execution_count": 93,
     "metadata": {},
     "output_type": "execute_result"
    }
   ],
   "source": [
    "cm"
   ]
  },
  {
   "cell_type": "code",
   "execution_count": 94,
   "id": "b4b68d52",
   "metadata": {},
   "outputs": [
    {
     "data": {
      "text/plain": [
       "0.5445459095175961"
      ]
     },
     "execution_count": 94,
     "metadata": {},
     "output_type": "execute_result"
    }
   ],
   "source": [
    "fpr,tpr,thershold=metrics.roc_curve(y_test,neipred)\n",
    "roc_auc=metrics.auc(fpr,tpr)\n",
    "roc_auc"
   ]
  },
  {
   "cell_type": "markdown",
   "id": "74f81046",
   "metadata": {},
   "source": [
    "from lazypredict.Supervised import LazyClassifier\n",
    "clf = LazyClassifier(verbose=0,ignore_warnings=False,custom_metric=None)\n",
    "models, predictions = clf.fit(x_train,x_test,y_train, y_test)\n",
    "print(models)"
   ]
  },
  {
   "cell_type": "code",
   "execution_count": 95,
   "id": "ac317fc5",
   "metadata": {},
   "outputs": [],
   "source": [
    "import pickle"
   ]
  },
  {
   "cell_type": "code",
   "execution_count": 96,
   "id": "22b2991b",
   "metadata": {},
   "outputs": [],
   "source": [
    "pickle.dump(rfc,open(\"Genetic classification.pkl\",\"wb\"))"
   ]
  },
  {
   "cell_type": "code",
   "execution_count": null,
   "id": "805b5670",
   "metadata": {},
   "outputs": [],
   "source": []
  }
 ],
 "metadata": {
  "kernelspec": {
   "display_name": "Python 3 (ipykernel)",
   "language": "python",
   "name": "python3"
  },
  "language_info": {
   "codemirror_mode": {
    "name": "ipython",
    "version": 3
   },
   "file_extension": ".py",
   "mimetype": "text/x-python",
   "name": "python",
   "nbconvert_exporter": "python",
   "pygments_lexer": "ipython3",
   "version": "3.10.9"
  }
 },
 "nbformat": 4,
 "nbformat_minor": 5
}
